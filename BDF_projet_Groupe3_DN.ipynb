{
  "cells": [
    {
      "cell_type": "markdown",
      "metadata": {},
      "source": [
        "# <p align=\"center\">Big Data Frameworks</p>\n",
        "\n",
        "### <p align=\"center\">Analyse d’une trace de données de Google</p>"
      ]
    },
    {
      "cell_type": "markdown",
      "metadata": {},
      "source": [
        "Thomas GOUTH, Théo MILLOT, Lucas RICARDE, David SZWARCBART\n",
        "\n",
        "ING 3 HPDA\n",
        "\n",
        "Année 2024-2025"
      ]
    },
    {
      "cell_type": "markdown",
      "metadata": {
        "cell_id": "4099a7f6275f484882c60f0c75279ee8",
        "deepnote_cell_type": "markdown",
        "id": "-qJVgiamxlLt"
      },
      "source": [
        "## Loading of data\n"
      ]
    },
    {
      "cell_type": "code",
      "execution_count": null,
      "metadata": {
        "cell_id": "28dd9d406a344afd8f104cef594ae2ff",
        "deepnote_cell_type": "code",
        "execution_context_id": "975769aa-23b9-442b-a544-af5f6a1ef518",
        "execution_millis": 9969,
        "execution_start": 1740331698761,
        "id": "BhZe0aBgyKB_",
        "source_hash": "516bd296"
      },
      "outputs": [],
      "source": [
        "!pip install gsutil\n",
        "!pip install statsmodels"
      ]
    },
    {
      "cell_type": "code",
      "execution_count": null,
      "metadata": {
        "cell_id": "8a24abb966be457fa9396e1521ffd52d",
        "deepnote_cell_type": "code",
        "execution_context_id": "3a0e81b2-c226-4b65-91ab-14664ac471f0",
        "execution_millis": 1121199,
        "execution_start": 1740313784041,
        "id": "uZgod3Xxyv9J",
        "source_hash": "3194cdc3"
      },
      "outputs": [],
      "source": [
        "!gsutil -m cp -R gs://clusterdata-2011-2/task_usage/ /work"
      ]
    },
    {
      "cell_type": "code",
      "execution_count": null,
      "metadata": {
        "cell_id": "09975ca8a17a41b7b868b698904c91dd",
        "deepnote_cell_type": "code",
        "execution_context_id": "975769aa-23b9-442b-a544-af5f6a1ef518",
        "execution_millis": 531941,
        "execution_start": 1740318100809,
        "id": "1FzX0Bt8srRn",
        "source_hash": "c1b88130"
      },
      "outputs": [],
      "source": [
        "!gsutil -m cp -R gs://clusterdata-2011-2/task_events/ /work"
      ]
    },
    {
      "cell_type": "markdown",
      "metadata": {
        "cell_id": "9d5047e5e1d24073857cca2517ff3a38",
        "deepnote_cell_type": "markdown",
        "id": "vMXChOX0xev4"
      },
      "source": [
        "## Spark initialisation"
      ]
    },
    {
      "cell_type": "code",
      "execution_count": null,
      "metadata": {
        "cell_id": "be2eb49d824545a9ba95532bcc84cff9",
        "deepnote_cell_type": "code",
        "deepnote_variable_name": "",
        "execution_context_id": "446c9192-84e9-4b6d-ab6b-2aef8d2b6cf4",
        "execution_millis": 17801,
        "execution_start": 1740344403589,
        "id": "6N2qj3rhsrRo",
        "outputId": "c3bf1914-2599-462a-e17f-416b12faf667",
        "source_hash": "6a8666da",
        "sql_integration_id": ""
      },
      "outputs": [
        {
          "name": "stdout",
          "output_type": "stream",
          "text": [
            "Requirement already satisfied: pyspark in /root/venv/lib/python3.9/site-packages (3.5.4)\n",
            "Requirement already satisfied: py4j==0.10.9.7 in /root/venv/lib/python3.9/site-packages (from pyspark) (0.10.9.7)\n",
            "\n",
            "\u001b[1m[\u001b[0m\u001b[34;49mnotice\u001b[0m\u001b[1;39;49m]\u001b[0m\u001b[39;49m A new release of pip is available: \u001b[0m\u001b[31;49m23.0.1\u001b[0m\u001b[39;49m -> \u001b[0m\u001b[32;49m25.0.1\u001b[0m\n",
            "\u001b[1m[\u001b[0m\u001b[34;49mnotice\u001b[0m\u001b[1;39;49m]\u001b[0m\u001b[39;49m To update, run: \u001b[0m\u001b[32;49mpip install --upgrade pip\u001b[0m\n",
            "Hit:1 http://deb.debian.org/debian bullseye InRelease\n",
            "Get:2 http://deb.debian.org/debian-security bullseye-security InRelease [27.2 kB]\n",
            "Get:3 http://deb.debian.org/debian bullseye-updates InRelease [44.1 kB]\n",
            "Get:4 http://deb.debian.org/debian-security bullseye-security/main amd64 Packages [348 kB]\n",
            "Fetched 420 kB in 1s (547 kB/s)\n",
            "\n",
            "\n",
            "\n",
            "\n",
            "openjdk-11-jdk-headless is already the newest version (11.0.26+4-1~deb11u1).\n",
            "0 upgraded, 0 newly installed, 0 to remove and 21 not upgraded.\n",
            "Setting default log level to \"WARN\".\n",
            "To adjust logging level use sc.setLogLevel(newLevel). For SparkR, use setLogLevel(newLevel).\n",
            "25/02/23 21:00:15 WARN NativeCodeLoader: Unable to load native-hadoop library for your platform... using builtin-java classes where applicable\n"
          ]
        },
        {
          "data": {
            "text/html": [
              "\n",
              "            <div>\n",
              "                <p><b>SparkSession - in-memory</b></p>\n",
              "                \n",
              "        <div>\n",
              "            <p><b>SparkContext</b></p>\n",
              "\n",
              "            <p><a href=\"http://p-ebce4537-6539-479f-b2db-346c9f9d40f3.projects-domain.projects.svc.cluster.local:4040\">Spark UI</a></p>\n",
              "\n",
              "            <dl>\n",
              "              <dt>Version</dt>\n",
              "                <dd><code>v3.5.4</code></dd>\n",
              "              <dt>Master</dt>\n",
              "                <dd><code>local[*]</code></dd>\n",
              "              <dt>AppName</dt>\n",
              "                <dd><code>Deepnote Spark Session</code></dd>\n",
              "            </dl>\n",
              "        </div>\n",
              "        \n",
              "            </div>\n",
              "        "
            ],
            "text/plain": [
              "<pyspark.sql.session.SparkSession at 0x7ff788eec8e0>"
            ]
          },
          "execution_count": 1,
          "metadata": {},
          "output_type": "execute_result"
        }
      ],
      "source": [
        "import os\n",
        "from pyspark.sql import SparkSession\n",
        "\n",
        "# Install PySpark via pip\n",
        "!pip install pyspark\n",
        "\n",
        "# Correct Spark session initialization by fixing the JAVA_HOME path\n",
        "# Ensure the correct JDK version is installed and set the environment variable\n",
        "os.environ['JAVA_HOME'] = '/usr/lib/jvm/java-11-openjdk-amd64'\n",
        "os.environ['PATH'] = os.environ['JAVA_HOME'] + '/bin:' + os.environ['PATH']\n",
        "\n",
        "# Ensure Java installation is valid\n",
        "!apt-get update && apt-get install -y openjdk-11-jdk-headless\n",
        "\n",
        "# Start Spark Session\n",
        "spark = SparkSession.builder \\\n",
        "        .appName(\"Deepnote Spark Session\") \\\n",
        "        .master(\"local[*]\") \\\n",
        "        .config(\"spark.some.config.option\", \"some-value\") \\\n",
        "        .getOrCreate()\n",
        "\n",
        "spark"
      ]
    },
    {
      "cell_type": "code",
      "execution_count": null,
      "metadata": {
        "cell_id": "ede25cc1126c4603b84cce1d60cfec4a",
        "deepnote_cell_type": "code",
        "execution_context_id": "446c9192-84e9-4b6d-ab6b-2aef8d2b6cf4",
        "execution_millis": 1,
        "execution_start": 1740344421437,
        "id": "F81Ki9fXsrRp",
        "source_hash": "8ff81aa1"
      },
      "outputs": [],
      "source": [
        "sc = spark.sparkContext"
      ]
    },
    {
      "cell_type": "code",
      "execution_count": null,
      "metadata": {
        "cell_id": "10810b504481480b96eda347ad1807fd",
        "deepnote_cell_type": "code",
        "execution_context_id": "446c9192-84e9-4b6d-ab6b-2aef8d2b6cf4",
        "execution_millis": 2339,
        "execution_start": 1740344421494,
        "id": "Ygv53_ra65Jm",
        "source_hash": "52448814"
      },
      "outputs": [],
      "source": [
        "from pyspark.sql.types import *\n",
        "from pyspark.sql.functions import count, avg, max, sum, min\n",
        "from pyspark import StorageLevel\n",
        "import numpy as np\n",
        "import matplotlib.pyplot as plt\n",
        "import seaborn as sns\n",
        "import pandas as pd\n",
        "\n",
        "import statsmodels.api as sm"
      ]
    },
    {
      "cell_type": "markdown",
      "metadata": {},
      "source": [
        "## Data to RDD"
      ]
    },
    {
      "cell_type": "code",
      "execution_count": null,
      "metadata": {
        "id": "7iSJOEtatJEX"
      },
      "outputs": [],
      "source": [
        "full_RDD = sc.textFile(\"/work/task_usage/*\").map(lambda line: line.split(\",\")).persist(StorageLevel.MEMORY_AND_DISK)"
      ]
    },
    {
      "cell_type": "code",
      "execution_count": null,
      "metadata": {
        "cell_id": "a85bcbbf9f2b4ee68601203d31d2fcb1",
        "deepnote_cell_type": "code",
        "execution_context_id": "446c9192-84e9-4b6d-ab6b-2aef8d2b6cf4",
        "execution_millis": 96,
        "execution_start": 1740344424993,
        "id": "HxBvV4cTPjTl",
        "source_hash": "5904749b"
      },
      "outputs": [],
      "source": [
        "full_RDD = sc.textFile(\"/work/task_usage/part-00000-of-00500.csv.gz\").map(lambda line: line.split(\",\")).persist(StorageLevel.MEMORY_AND_DISK)"
      ]
    },
    {
      "cell_type": "markdown",
      "metadata": {
        "cell_id": "fb6eb82078214b00aaa7d76f46e7a0f8",
        "deepnote_cell_type": "markdown",
        "id": "7LHf3hbfO6YV"
      },
      "source": [
        "## Dominants jobs"
      ]
    },
    {
      "cell_type": "code",
      "execution_count": null,
      "metadata": {
        "cell_id": "f3e7ff2b420e4593a3b00c340433aae2",
        "deepnote_cell_type": "code",
        "execution_context_id": "446c9192-84e9-4b6d-ab6b-2aef8d2b6cf4",
        "execution_millis": 361,
        "execution_start": 1740344425141,
        "id": "ukiDo4ScO-eQ",
        "source_hash": "45100589"
      },
      "outputs": [],
      "source": [
        "full_jobsM = full_RDD.map(lambda cols: (int(cols[2]), (1, float(cols[5]), float(cols[19]), float(cols[6]), float(cols[10]))))\n",
        "f_full_jobs = full_jobsM.filter(lambda x: x[1][1]>0 and x[1][2]>0 and x[1][1]<1 and x[1][2]<1 and x[0]>0 and x[1][4]>0 and x[1][3]>0 and x[1][4]<1 and x[1][3]<1)\n",
        "r_full_jobs = f_full_jobs.reduceByKey(lambda a, b: (a[0] + b[0], a[1]+b[1], np.max([a[2],b[2]]), a[3]+b[3], np.max([a[4],b[4]])))\n",
        "end_full_jobs = r_full_jobs.mapValues(lambda x: (x[0], x[1]/x[0], x[2], x[3]/x[0], x[4])).persist(StorageLevel.MEMORY_AND_DISK)"
      ]
    },
    {
      "cell_type": "code",
      "execution_count": null,
      "metadata": {
        "cell_id": "3826170ea10f4ae3953173dc86f7b30a",
        "deepnote_cell_type": "code",
        "execution_context_id": "446c9192-84e9-4b6d-ab6b-2aef8d2b6cf4",
        "execution_millis": 60547,
        "execution_start": 1740344425601,
        "id": "GqVl5xmWPAML",
        "outputId": "9506b410-13c2-4482-c7f4-0d4be094a195",
        "source_hash": "cb190efd"
      },
      "outputs": [
        {
          "name": "stderr",
          "output_type": "stream",
          "text": []
        }
      ],
      "source": [
        "jobs_dom_cpuavg = end_full_jobs.sortBy(lambda x: (x[1][1]), ascending=False).keys().take(10)\n",
        "jobs_dom_cpumax = end_full_jobs.sortBy(lambda x: (x[1][2]), ascending=False).keys().take(10)\n",
        "jobs_dom_memavg = end_full_jobs.sortBy(lambda x: (x[1][3]), ascending=False).keys().take(10)\n",
        "jobs_dom_memmax = end_full_jobs.sortBy(lambda x: (x[1][4]), ascending=False).keys().take(10)"
      ]
    },
    {
      "cell_type": "code",
      "execution_count": null,
      "metadata": {
        "cell_id": "a5d5b4d46c534018b18ae3a11c8fa3b5",
        "deepnote_cell_type": "code",
        "execution_context_id": "446c9192-84e9-4b6d-ab6b-2aef8d2b6cf4",
        "execution_millis": 1,
        "execution_start": 1740344486201,
        "id": "NnaZuK2ZPBxv",
        "outputId": "9ff99e77-8121-4c5a-d6f0-306bea5e41d0",
        "source_hash": "46b7506e"
      },
      "outputs": [
        {
          "name": "stdout",
          "output_type": "stream",
          "text": [
            "[5501666014, 6184967359, 6243111979, 2509801316, 4974863111, 4974863530, 4974862840, 4974863723, 4974862115, 4974863081]\n",
            "[5022579678, 4665897969, 4665712396, 5501666014, 6184967359, 6176114691, 4665712499, 6251803864, 6127642576, 4974912787]\n",
            "[6024393894, 6184967406, 6184967359, 4472621957, 5840251953, 259235987, 3638155221, 5323518598, 2509801316, 3405957923]\n",
            "[6024393894, 6184967406, 6184967359, 4472621957, 5840251953, 259235987, 3638155221, 5323518598, 2509801316, 3405957923]\n"
          ]
        }
      ],
      "source": [
        "print(jobs_dom_cpuavg)\n",
        "print(jobs_dom_cpumax)\n",
        "print(jobs_dom_memavg)\n",
        "print(jobs_dom_memmax)"
      ]
    },
    {
      "cell_type": "markdown",
      "metadata": {
        "cell_id": "62ddc63e8e204e45af2b28dcd9b0eb3a",
        "deepnote_cell_type": "markdown",
        "id": "W3z5eB4OO3QK"
      },
      "source": [
        "## Dominants tasks"
      ]
    },
    {
      "cell_type": "code",
      "execution_count": null,
      "metadata": {
        "cell_id": "26e037ce49b34324b31bf76dd05862cc",
        "deepnote_cell_type": "code",
        "execution_context_id": "446c9192-84e9-4b6d-ab6b-2aef8d2b6cf4",
        "execution_millis": 59,
        "execution_start": 1740344486257,
        "id": "e13MoRi-9Zyo",
        "source_hash": "913d48b5"
      },
      "outputs": [],
      "source": [
        "fullM = full_RDD.map(lambda cols: ((int(cols[2]), int(cols[3])), (1, float(cols[5]), float(cols[19]), float(cols[6]), float(cols[10]))))\n",
        "f_full = fullM.filter(lambda x: x[1][1]>0 and x[1][2]>0 and x[1][1]<1 and x[1][2]<1 and x[0][1]>0 and x[1][4]>0 and x[1][3]>0 and x[1][4]<1 and x[1][3]<1 and x[0][0]>0)\n",
        "r_full = f_full.reduceByKey(lambda a, b: (a[0] + b[0], a[1]+b[1], np.max([a[2],b[2]]), a[3]+b[3], np.max([a[4],b[4]])))\n",
        "end_full = r_full.mapValues(lambda x: (x[0], x[1]/x[0], x[2], x[3]/x[0], x[4])).persist(StorageLevel.MEMORY_AND_DISK)"
      ]
    },
    {
      "cell_type": "code",
      "execution_count": null,
      "metadata": {
        "cell_id": "e4dc43c90edc4b80a46ba78f8784e063",
        "deepnote_cell_type": "code",
        "execution_context_id": "446c9192-84e9-4b6d-ab6b-2aef8d2b6cf4",
        "execution_millis": 45842,
        "execution_start": 1740344486362,
        "id": "1eYtnt1FsrRt",
        "outputId": "ee1dccef-4ab7-4048-8b9c-102213072cbc",
        "source_hash": "50e78f56"
      },
      "outputs": [
        {
          "name": "stderr",
          "output_type": "stream",
          "text": []
        }
      ],
      "source": [
        "tasks_dom_cpuavg = end_full.sortBy(lambda x: (x[1][1]), ascending=False).take(15)\n",
        "tasks_dom_cpumax = end_full.sortBy(lambda x: (x[1][2]), ascending=False).take(15)\n",
        "tasks_dom_memavg = end_full.sortBy(lambda x: (x[1][3]), ascending=False).take(15)\n",
        "tasks_dom_memmax = end_full.sortBy(lambda x: (x[1][4]), ascending=False).take(15)"
      ]
    },
    {
      "cell_type": "code",
      "execution_count": null,
      "metadata": {
        "cell_id": "852c8534d60a44e3a22322332f25d596",
        "deepnote_cell_type": "code",
        "execution_context_id": "446c9192-84e9-4b6d-ab6b-2aef8d2b6cf4",
        "execution_millis": 1,
        "execution_start": 1740344532253,
        "id": "9Mu5MY6ZsrRt",
        "source_hash": "aed0967b"
      },
      "outputs": [],
      "source": [
        "def rdd_to_pandasdf(rdd_list) :\n",
        "    df_correlation=pd.DataFrame(columns=['job ID', 'task index', 'number of tasks', 'Average CPU rate', 'Max CPU rate', 'Average memory usage', 'Max memory usage'])\n",
        "    for job_list in rdd_list :\n",
        "      df = pd.DataFrame(job_list, columns=['jobs ID', 'values'])\n",
        "      df_keys = pd.DataFrame(df['jobs ID'].tolist(), columns=['job ID', 'task index'])\n",
        "      df_values = pd.DataFrame(df['values'].tolist(), columns=['number of tasks', 'Average CPU rate', 'Max CPU rate', 'Average memory usage', 'Max memory usage'])\n",
        "      df_final = df_keys.join(df_values)\n",
        "      df_correlation = pd.concat([df_correlation, df_final], ignore_index=True)\n",
        "\n",
        "    return (df_correlation)\n"
      ]
    },
    {
      "cell_type": "code",
      "execution_count": null,
      "metadata": {
        "cell_id": "1d9a66ba9dc74fcc9829928132b24924",
        "deepnote_cell_type": "code",
        "execution_context_id": "446c9192-84e9-4b6d-ab6b-2aef8d2b6cf4",
        "execution_millis": 1,
        "execution_start": 1740344532317,
        "id": "MhYiDHkJsrRt",
        "outputId": "5b802d38-c8ef-4cc3-9041-df4e7e783607",
        "source_hash": "2fee161c"
      },
      "outputs": [
        {
          "name": "stderr",
          "output_type": "stream",
          "text": [
            "/tmp/ipykernel_11655/1038085657.py:8: FutureWarning: The behavior of DataFrame concatenation with empty or all-NA entries is deprecated. In a future version, this will no longer exclude empty or all-NA columns when determining the result dtypes. To retain the old behavior, exclude the relevant entries before the concat operation.\n",
            "  df_correlation = pd.concat([df_correlation, df_final], ignore_index=True)\n"
          ]
        }
      ],
      "source": [
        "df_tasks_dom = rdd_to_pandasdf([tasks_dom_cpuavg, tasks_dom_cpumax, tasks_dom_memavg, tasks_dom_memmax])"
      ]
    },
    {
      "cell_type": "code",
      "execution_count": null,
      "metadata": {
        "cell_id": "93af888dc62145db8d7e5c11234fdf9f",
        "deepnote_cell_type": "code",
        "execution_context_id": "446c9192-84e9-4b6d-ab6b-2aef8d2b6cf4",
        "execution_millis": 6,
        "execution_start": 1740344532374,
        "id": "tYHyEu-AsrRt",
        "outputId": "119cb6d3-49f1-4f6a-aca1-8c502e98f989",
        "source_hash": "816013de"
      },
      "outputs": [
        {
          "data": {
            "application/vnd.deepnote.dataframe.v3+json": {
              "column_count": 7,
              "columns": [
                {
                  "dtype": "object",
                  "name": "job ID",
                  "stats": {
                    "categories": [
                      {
                        "count": 4,
                        "name": "4665897969"
                      },
                      {
                        "count": 4,
                        "name": "6184967406"
                      },
                      {
                        "count": 12,
                        "name": "8 others"
                      }
                    ],
                    "nan_count": 0,
                    "unique_count": 10
                  }
                },
                {
                  "dtype": "object",
                  "name": "task index",
                  "stats": {
                    "categories": [
                      {
                        "count": 6,
                        "name": "1"
                      },
                      {
                        "count": 3,
                        "name": "2"
                      },
                      {
                        "count": 11,
                        "name": "8 others"
                      }
                    ],
                    "nan_count": 0,
                    "unique_count": 10
                  }
                },
                {
                  "dtype": "object",
                  "name": "number of tasks",
                  "stats": {
                    "categories": [
                      {
                        "count": 17,
                        "name": "17"
                      },
                      {
                        "count": 1,
                        "name": "2"
                      },
                      {
                        "count": 2,
                        "name": "2 others"
                      }
                    ],
                    "nan_count": 0,
                    "unique_count": 4
                  }
                },
                {
                  "dtype": "float64",
                  "name": "Average CPU rate",
                  "stats": {
                    "histogram": [
                      {
                        "bin_end": 0.026890536647058823,
                        "bin_start": 0.00006726294117647059,
                        "count": 7
                      },
                      {
                        "bin_end": 0.05371381035294117,
                        "bin_start": 0.026890536647058823,
                        "count": 0
                      },
                      {
                        "bin_end": 0.08053708405882352,
                        "bin_start": 0.05371381035294117,
                        "count": 0
                      },
                      {
                        "bin_end": 0.10736035776470587,
                        "bin_start": 0.08053708405882352,
                        "count": 0
                      },
                      {
                        "bin_end": 0.13418363147058823,
                        "bin_start": 0.10736035776470587,
                        "count": 0
                      },
                      {
                        "bin_end": 0.1610069051764706,
                        "bin_start": 0.13418363147058823,
                        "count": 2
                      },
                      {
                        "bin_end": 0.18783017888235293,
                        "bin_start": 0.1610069051764706,
                        "count": 1
                      },
                      {
                        "bin_end": 0.2146534525882353,
                        "bin_start": 0.18783017888235293,
                        "count": 3
                      },
                      {
                        "bin_end": 0.24147672629411765,
                        "bin_start": 0.2146534525882353,
                        "count": 1
                      },
                      {
                        "bin_end": 0.2683,
                        "bin_start": 0.24147672629411765,
                        "count": 6
                      }
                    ],
                    "max": "0.2683",
                    "min": "6.726294117647059e-05",
                    "nan_count": 0,
                    "unique_count": 14
                  }
                },
                {
                  "dtype": "float64",
                  "name": "Max CPU rate",
                  "stats": {
                    "histogram": [
                      {
                        "bin_end": 0.08817108,
                        "bin_start": 0.0002012,
                        "count": 6
                      },
                      {
                        "bin_end": 0.17614096,
                        "bin_start": 0.08817108,
                        "count": 0
                      },
                      {
                        "bin_end": 0.26411084,
                        "bin_start": 0.17614096,
                        "count": 2
                      },
                      {
                        "bin_end": 0.35208072,
                        "bin_start": 0.26411084,
                        "count": 2
                      },
                      {
                        "bin_end": 0.4400506,
                        "bin_start": 0.35208072,
                        "count": 4
                      },
                      {
                        "bin_end": 0.52802048,
                        "bin_start": 0.4400506,
                        "count": 0
                      },
                      {
                        "bin_end": 0.6159903600000001,
                        "bin_start": 0.52802048,
                        "count": 2
                      },
                      {
                        "bin_end": 0.70396024,
                        "bin_start": 0.6159903600000001,
                        "count": 0
                      },
                      {
                        "bin_end": 0.79193012,
                        "bin_start": 0.70396024,
                        "count": 3
                      },
                      {
                        "bin_end": 0.8799,
                        "bin_start": 0.79193012,
                        "count": 1
                      }
                    ],
                    "max": "0.8799",
                    "min": "0.0002012",
                    "nan_count": 0,
                    "unique_count": 14
                  }
                },
                {
                  "dtype": "float64",
                  "name": "Average memory usage",
                  "stats": {
                    "histogram": [
                      {
                        "bin_end": 0.08702546,
                        "bin_start": 0.0131394,
                        "count": 10
                      },
                      {
                        "bin_end": 0.16091152,
                        "bin_start": 0.08702546,
                        "count": 2
                      },
                      {
                        "bin_end": 0.23479758,
                        "bin_start": 0.16091152,
                        "count": 2
                      },
                      {
                        "bin_end": 0.30868364000000004,
                        "bin_start": 0.23479758,
                        "count": 0
                      },
                      {
                        "bin_end": 0.3825697,
                        "bin_start": 0.30868364000000004,
                        "count": 0
                      },
                      {
                        "bin_end": 0.45645576000000004,
                        "bin_start": 0.3825697,
                        "count": 0
                      },
                      {
                        "bin_end": 0.5303418200000001,
                        "bin_start": 0.45645576000000004,
                        "count": 2
                      },
                      {
                        "bin_end": 0.60422788,
                        "bin_start": 0.5303418200000001,
                        "count": 2
                      },
                      {
                        "bin_end": 0.67811394,
                        "bin_start": 0.60422788,
                        "count": 0
                      },
                      {
                        "bin_end": 0.7520000000000001,
                        "bin_start": 0.67811394,
                        "count": 2
                      }
                    ],
                    "max": "0.7520000000000001",
                    "min": "0.0131394",
                    "nan_count": 0,
                    "unique_count": 14
                  }
                },
                {
                  "dtype": "float64",
                  "name": "Max memory usage",
                  "stats": {
                    "histogram": [
                      {
                        "bin_end": 0.088835,
                        "bin_start": 0.01515,
                        "count": 9
                      },
                      {
                        "bin_end": 0.16252,
                        "bin_start": 0.088835,
                        "count": 3
                      },
                      {
                        "bin_end": 0.236205,
                        "bin_start": 0.16252,
                        "count": 2
                      },
                      {
                        "bin_end": 0.30989,
                        "bin_start": 0.236205,
                        "count": 0
                      },
                      {
                        "bin_end": 0.383575,
                        "bin_start": 0.30989,
                        "count": 0
                      },
                      {
                        "bin_end": 0.45726,
                        "bin_start": 0.383575,
                        "count": 0
                      },
                      {
                        "bin_end": 0.530945,
                        "bin_start": 0.45726,
                        "count": 2
                      },
                      {
                        "bin_end": 0.60463,
                        "bin_start": 0.530945,
                        "count": 2
                      },
                      {
                        "bin_end": 0.678315,
                        "bin_start": 0.60463,
                        "count": 0
                      },
                      {
                        "bin_end": 0.752,
                        "bin_start": 0.678315,
                        "count": 2
                      }
                    ],
                    "max": "0.752",
                    "min": "0.01515",
                    "nan_count": 0,
                    "unique_count": 14
                  }
                },
                {
                  "dtype": "int64",
                  "name": "_deepnote_index_column"
                }
              ],
              "row_count": 20,
              "rows": [
                {
                  "Average CPU rate": 0.2683,
                  "Average memory usage": 0.084595,
                  "Max CPU rate": 0.3706,
                  "Max memory usage": 0.08496,
                  "_deepnote_index_column": 0,
                  "job ID": "6251620795",
                  "number of tasks": "2",
                  "task index": "5"
                },
                {
                  "Average CPU rate": 0.2528411764705883,
                  "Average memory usage": 0.06663588235294118,
                  "Max CPU rate": 0.418,
                  "Max memory usage": 0.06787,
                  "_deepnote_index_column": 1,
                  "job ID": "4665897969",
                  "number of tasks": "17",
                  "task index": "44"
                },
                {
                  "Average CPU rate": 0.2515911111111111,
                  "Average memory usage": 0.07269894444444444,
                  "Max CPU rate": 0.356,
                  "Max memory usage": 0.1115,
                  "_deepnote_index_column": 2,
                  "job ID": "6251684909",
                  "number of tasks": "18",
                  "task index": "5"
                },
                {
                  "Average CPU rate": 0.25126470588235295,
                  "Average memory usage": 0.06686352941176471,
                  "Max CPU rate": 0.7549,
                  "Max memory usage": 0.06873,
                  "_deepnote_index_column": 3,
                  "job ID": "4665897969",
                  "number of tasks": "17",
                  "task index": "46"
                },
                {
                  "Average CPU rate": 0.24806,
                  "Average memory usage": 0.0131394,
                  "Max CPU rate": 0.4126,
                  "Max memory usage": 0.01515,
                  "_deepnote_index_column": 4,
                  "job ID": "6251658528",
                  "number of tasks": "5",
                  "task index": "2"
                },
                {
                  "Average CPU rate": 0.2102470588235294,
                  "Average memory usage": 0.06674411764705881,
                  "Max CPU rate": 0.8799,
                  "Max memory usage": 0.07434,
                  "_deepnote_index_column": 5,
                  "job ID": "5022579678",
                  "number of tasks": "17",
                  "task index": "78"
                },
                {
                  "Average CPU rate": 0.25126470588235295,
                  "Average memory usage": 0.06686352941176471,
                  "Max CPU rate": 0.7549,
                  "Max memory usage": 0.06873,
                  "_deepnote_index_column": 6,
                  "job ID": "4665897969",
                  "number of tasks": "17",
                  "task index": "46"
                },
                {
                  "Average CPU rate": 0.02594176470588235,
                  "Average memory usage": 0.027709411764705885,
                  "Max CPU rate": 0.7217,
                  "Max memory usage": 0.03162,
                  "_deepnote_index_column": 7,
                  "job ID": "4665712396",
                  "number of tasks": "17",
                  "task index": "17"
                },
                {
                  "Average CPU rate": 0.17727058823529412,
                  "Average memory usage": 0.0680364705882353,
                  "Max CPU rate": 0.5654,
                  "Max memory usage": 0.0686,
                  "_deepnote_index_column": 8,
                  "job ID": "4665897969",
                  "number of tasks": "17",
                  "task index": "320"
                },
                {
                  "Average CPU rate": 0.21508823529411766,
                  "Average memory usage": 0.06619823529411764,
                  "Max CPU rate": 0.5566,
                  "Max memory usage": 0.07312,
                  "_deepnote_index_column": 9,
                  "job ID": "5022579678",
                  "number of tasks": "17",
                  "task index": "224"
                }
              ]
            },
            "text/html": [
              "<div>\n",
              "<style scoped>\n",
              "    .dataframe tbody tr th:only-of-type {\n",
              "        vertical-align: middle;\n",
              "    }\n",
              "\n",
              "    .dataframe tbody tr th {\n",
              "        vertical-align: top;\n",
              "    }\n",
              "\n",
              "    .dataframe thead th {\n",
              "        text-align: right;\n",
              "    }\n",
              "</style>\n",
              "<table border=\"1\" class=\"dataframe\">\n",
              "  <thead>\n",
              "    <tr style=\"text-align: right;\">\n",
              "      <th></th>\n",
              "      <th>job ID</th>\n",
              "      <th>task index</th>\n",
              "      <th>number of tasks</th>\n",
              "      <th>Average CPU rate</th>\n",
              "      <th>Max CPU rate</th>\n",
              "      <th>Average memory usage</th>\n",
              "      <th>Max memory usage</th>\n",
              "    </tr>\n",
              "  </thead>\n",
              "  <tbody>\n",
              "    <tr>\n",
              "      <th>0</th>\n",
              "      <td>6251620795</td>\n",
              "      <td>5</td>\n",
              "      <td>2</td>\n",
              "      <td>0.268300</td>\n",
              "      <td>0.370600</td>\n",
              "      <td>0.084595</td>\n",
              "      <td>0.08496</td>\n",
              "    </tr>\n",
              "    <tr>\n",
              "      <th>1</th>\n",
              "      <td>4665897969</td>\n",
              "      <td>44</td>\n",
              "      <td>17</td>\n",
              "      <td>0.252841</td>\n",
              "      <td>0.418000</td>\n",
              "      <td>0.066636</td>\n",
              "      <td>0.06787</td>\n",
              "    </tr>\n",
              "    <tr>\n",
              "      <th>2</th>\n",
              "      <td>6251684909</td>\n",
              "      <td>5</td>\n",
              "      <td>18</td>\n",
              "      <td>0.251591</td>\n",
              "      <td>0.356000</td>\n",
              "      <td>0.072699</td>\n",
              "      <td>0.11150</td>\n",
              "    </tr>\n",
              "    <tr>\n",
              "      <th>3</th>\n",
              "      <td>4665897969</td>\n",
              "      <td>46</td>\n",
              "      <td>17</td>\n",
              "      <td>0.251265</td>\n",
              "      <td>0.754900</td>\n",
              "      <td>0.066864</td>\n",
              "      <td>0.06873</td>\n",
              "    </tr>\n",
              "    <tr>\n",
              "      <th>4</th>\n",
              "      <td>6251658528</td>\n",
              "      <td>2</td>\n",
              "      <td>5</td>\n",
              "      <td>0.248060</td>\n",
              "      <td>0.412600</td>\n",
              "      <td>0.013139</td>\n",
              "      <td>0.01515</td>\n",
              "    </tr>\n",
              "    <tr>\n",
              "      <th>5</th>\n",
              "      <td>5022579678</td>\n",
              "      <td>78</td>\n",
              "      <td>17</td>\n",
              "      <td>0.210247</td>\n",
              "      <td>0.879900</td>\n",
              "      <td>0.066744</td>\n",
              "      <td>0.07434</td>\n",
              "    </tr>\n",
              "    <tr>\n",
              "      <th>6</th>\n",
              "      <td>4665897969</td>\n",
              "      <td>46</td>\n",
              "      <td>17</td>\n",
              "      <td>0.251265</td>\n",
              "      <td>0.754900</td>\n",
              "      <td>0.066864</td>\n",
              "      <td>0.06873</td>\n",
              "    </tr>\n",
              "    <tr>\n",
              "      <th>7</th>\n",
              "      <td>4665712396</td>\n",
              "      <td>17</td>\n",
              "      <td>17</td>\n",
              "      <td>0.025942</td>\n",
              "      <td>0.721700</td>\n",
              "      <td>0.027709</td>\n",
              "      <td>0.03162</td>\n",
              "    </tr>\n",
              "    <tr>\n",
              "      <th>8</th>\n",
              "      <td>4665897969</td>\n",
              "      <td>320</td>\n",
              "      <td>17</td>\n",
              "      <td>0.177271</td>\n",
              "      <td>0.565400</td>\n",
              "      <td>0.068036</td>\n",
              "      <td>0.06860</td>\n",
              "    </tr>\n",
              "    <tr>\n",
              "      <th>9</th>\n",
              "      <td>5022579678</td>\n",
              "      <td>224</td>\n",
              "      <td>17</td>\n",
              "      <td>0.215088</td>\n",
              "      <td>0.556600</td>\n",
              "      <td>0.066198</td>\n",
              "      <td>0.07312</td>\n",
              "    </tr>\n",
              "    <tr>\n",
              "      <th>10</th>\n",
              "      <td>6024393894</td>\n",
              "      <td>1</td>\n",
              "      <td>17</td>\n",
              "      <td>0.000067</td>\n",
              "      <td>0.000201</td>\n",
              "      <td>0.752000</td>\n",
              "      <td>0.75200</td>\n",
              "    </tr>\n",
              "    <tr>\n",
              "      <th>11</th>\n",
              "      <td>6184967406</td>\n",
              "      <td>1</td>\n",
              "      <td>17</td>\n",
              "      <td>0.190459</td>\n",
              "      <td>0.285200</td>\n",
              "      <td>0.581259</td>\n",
              "      <td>0.58200</td>\n",
              "    </tr>\n",
              "    <tr>\n",
              "      <th>12</th>\n",
              "      <td>6184967406</td>\n",
              "      <td>2</td>\n",
              "      <td>17</td>\n",
              "      <td>0.136059</td>\n",
              "      <td>0.263700</td>\n",
              "      <td>0.525400</td>\n",
              "      <td>0.52640</td>\n",
              "    </tr>\n",
              "    <tr>\n",
              "      <th>13</th>\n",
              "      <td>3638155221</td>\n",
              "      <td>1</td>\n",
              "      <td>17</td>\n",
              "      <td>0.006324</td>\n",
              "      <td>0.061280</td>\n",
              "      <td>0.213247</td>\n",
              "      <td>0.21880</td>\n",
              "    </tr>\n",
              "    <tr>\n",
              "      <th>14</th>\n",
              "      <td>5400430074</td>\n",
              "      <td>7</td>\n",
              "      <td>17</td>\n",
              "      <td>0.000257</td>\n",
              "      <td>0.000644</td>\n",
              "      <td>0.158400</td>\n",
              "      <td>0.15840</td>\n",
              "    </tr>\n",
              "    <tr>\n",
              "      <th>15</th>\n",
              "      <td>6024393894</td>\n",
              "      <td>1</td>\n",
              "      <td>17</td>\n",
              "      <td>0.000067</td>\n",
              "      <td>0.000201</td>\n",
              "      <td>0.752000</td>\n",
              "      <td>0.75200</td>\n",
              "    </tr>\n",
              "    <tr>\n",
              "      <th>16</th>\n",
              "      <td>6184967406</td>\n",
              "      <td>1</td>\n",
              "      <td>17</td>\n",
              "      <td>0.190459</td>\n",
              "      <td>0.285200</td>\n",
              "      <td>0.581259</td>\n",
              "      <td>0.58200</td>\n",
              "    </tr>\n",
              "    <tr>\n",
              "      <th>17</th>\n",
              "      <td>6184967406</td>\n",
              "      <td>2</td>\n",
              "      <td>17</td>\n",
              "      <td>0.136059</td>\n",
              "      <td>0.263700</td>\n",
              "      <td>0.525400</td>\n",
              "      <td>0.52640</td>\n",
              "    </tr>\n",
              "    <tr>\n",
              "      <th>18</th>\n",
              "      <td>3638155221</td>\n",
              "      <td>1</td>\n",
              "      <td>17</td>\n",
              "      <td>0.006324</td>\n",
              "      <td>0.061280</td>\n",
              "      <td>0.213247</td>\n",
              "      <td>0.21880</td>\n",
              "    </tr>\n",
              "    <tr>\n",
              "      <th>19</th>\n",
              "      <td>5400430074</td>\n",
              "      <td>7</td>\n",
              "      <td>17</td>\n",
              "      <td>0.000257</td>\n",
              "      <td>0.000644</td>\n",
              "      <td>0.158400</td>\n",
              "      <td>0.15840</td>\n",
              "    </tr>\n",
              "  </tbody>\n",
              "</table>\n",
              "</div>"
            ],
            "text/plain": [
              "        job ID task index number of tasks  Average CPU rate  Max CPU rate  \\\n",
              "0   6251620795          5               2          0.268300      0.370600   \n",
              "1   4665897969         44              17          0.252841      0.418000   \n",
              "2   6251684909          5              18          0.251591      0.356000   \n",
              "3   4665897969         46              17          0.251265      0.754900   \n",
              "4   6251658528          2               5          0.248060      0.412600   \n",
              "5   5022579678         78              17          0.210247      0.879900   \n",
              "6   4665897969         46              17          0.251265      0.754900   \n",
              "7   4665712396         17              17          0.025942      0.721700   \n",
              "8   4665897969        320              17          0.177271      0.565400   \n",
              "9   5022579678        224              17          0.215088      0.556600   \n",
              "10  6024393894          1              17          0.000067      0.000201   \n",
              "11  6184967406          1              17          0.190459      0.285200   \n",
              "12  6184967406          2              17          0.136059      0.263700   \n",
              "13  3638155221          1              17          0.006324      0.061280   \n",
              "14  5400430074          7              17          0.000257      0.000644   \n",
              "15  6024393894          1              17          0.000067      0.000201   \n",
              "16  6184967406          1              17          0.190459      0.285200   \n",
              "17  6184967406          2              17          0.136059      0.263700   \n",
              "18  3638155221          1              17          0.006324      0.061280   \n",
              "19  5400430074          7              17          0.000257      0.000644   \n",
              "\n",
              "    Average memory usage  Max memory usage  \n",
              "0               0.084595           0.08496  \n",
              "1               0.066636           0.06787  \n",
              "2               0.072699           0.11150  \n",
              "3               0.066864           0.06873  \n",
              "4               0.013139           0.01515  \n",
              "5               0.066744           0.07434  \n",
              "6               0.066864           0.06873  \n",
              "7               0.027709           0.03162  \n",
              "8               0.068036           0.06860  \n",
              "9               0.066198           0.07312  \n",
              "10              0.752000           0.75200  \n",
              "11              0.581259           0.58200  \n",
              "12              0.525400           0.52640  \n",
              "13              0.213247           0.21880  \n",
              "14              0.158400           0.15840  \n",
              "15              0.752000           0.75200  \n",
              "16              0.581259           0.58200  \n",
              "17              0.525400           0.52640  \n",
              "18              0.213247           0.21880  \n",
              "19              0.158400           0.15840  "
            ]
          },
          "execution_count": 13,
          "metadata": {},
          "output_type": "execute_result"
        }
      ],
      "source": [
        "df_tasks_dom"
      ]
    },
    {
      "cell_type": "markdown",
      "metadata": {
        "cell_id": "5b17f18a92bc4ce88b2e42ba2738f037",
        "deepnote_cell_type": "markdown",
        "id": "khkMEMGj1LWE"
      },
      "source": [
        "## Dominants jobs by priority"
      ]
    },
    {
      "cell_type": "code",
      "execution_count": null,
      "metadata": {
        "cell_id": "4adf906b29264ee183ef13c60e914c61",
        "deepnote_cell_type": "code",
        "deepnote_table_loading": false,
        "deepnote_table_state": {
          "cellFormattingRules": [],
          "columnDisplayNames": [],
          "columnOrder": [
            "job ID",
            "task index",
            "number of tasks",
            "Average CPU rate",
            "Max CPU rate",
            "Average memory usage",
            "Max memory usage",
            "priority_xpart-00001-of-00500.csv.gz",
            "priority_ypart-00001-of-00500.csv.gz",
            "priority_xpart-00003-of-00500.csv.gz",
            "priority_ypart-00003-of-00500.csv.gz",
            "priority_xpart-00005-of-00500.csv.gz",
            "priority_ypart-00005-of-00500.csv.gz",
            "priority_xpart-00007-of-00500.csv.gz",
            "priority_ypart-00007-of-00500.csv.gz",
            "priority_xpart-00009-of-00500.csv.gz",
            "priority_ypart-00009-of-00500.csv.gz",
            "priority_xpart-00011-of-00500.csv.gz",
            "priority_ypart-00011-of-00500.csv.gz",
            "priority_xpart-00013-of-00500.csv.gz",
            "priority_ypart-00013-of-00500.csv.gz",
            "priority_xpart-00015-of-00500.csv.gz",
            "priority_ypart-00015-of-00500.csv.gz",
            "priority_xpart-00017-of-00500.csv.gz",
            "priority_ypart-00017-of-00500.csv.gz",
            "priority_xpart-00019-of-00500.csv.gz",
            "priority_ypart-00019-of-00500.csv.gz",
            "priority_xpart-00021-of-00500.csv.gz",
            "priority_ypart-00021-of-00500.csv.gz",
            "priority_xpart-00023-of-00500.csv.gz",
            "priority_ypart-00023-of-00500.csv.gz",
            "priority_xpart-00025-of-00500.csv.gz",
            "priority_ypart-00025-of-00500.csv.gz",
            "priority_xpart-00027-of-00500.csv.gz",
            "priority_ypart-00027-of-00500.csv.gz",
            "priority_xpart-00029-of-00500.csv.gz",
            "priority_ypart-00029-of-00500.csv.gz",
            "priority_xpart-00031-of-00500.csv.gz",
            "priority_ypart-00031-of-00500.csv.gz",
            "priority_xpart-00033-of-00500.csv.gz",
            "priority_ypart-00033-of-00500.csv.gz",
            "priority_xpart-00035-of-00500.csv.gz",
            "priority_ypart-00035-of-00500.csv.gz",
            "priority_xpart-00037-of-00500.csv.gz",
            "priority_ypart-00037-of-00500.csv.gz",
            "priority_xpart-00039-of-00500.csv.gz",
            "priority_ypart-00039-of-00500.csv.gz",
            "priority_xpart-00041-of-00500.csv.gz",
            "priority_ypart-00041-of-00500.csv.gz",
            "priority_xpart-00043-of-00500.csv.gz",
            "priority_ypart-00043-of-00500.csv.gz",
            "priority_xpart-00045-of-00500.csv.gz",
            "priority_ypart-00045-of-00500.csv.gz",
            "priority_xpart-00047-of-00500.csv.gz",
            "priority_ypart-00047-of-00500.csv.gz",
            "priority_xpart-00049-of-00500.csv.gz",
            "priority_ypart-00049-of-00500.csv.gz",
            "priority_xpart-00051-of-00500.csv.gz",
            "priority_ypart-00051-of-00500.csv.gz",
            "priority_xpart-00053-of-00500.csv.gz",
            "priority_ypart-00053-of-00500.csv.gz",
            "priority_xpart-00055-of-00500.csv.gz",
            "priority_ypart-00055-of-00500.csv.gz",
            "priority_xpart-00057-of-00500.csv.gz",
            "priority_ypart-00057-of-00500.csv.gz",
            "priority_xpart-00059-of-00500.csv.gz",
            "priority_ypart-00059-of-00500.csv.gz",
            "priority_xpart-00061-of-00500.csv.gz",
            "priority_ypart-00061-of-00500.csv.gz",
            "priority_xpart-00063-of-00500.csv.gz",
            "priority_ypart-00063-of-00500.csv.gz",
            "priority_xpart-00065-of-00500.csv.gz",
            "priority_ypart-00065-of-00500.csv.gz",
            "priority_xpart-00067-of-00500.csv.gz",
            "priority_ypart-00067-of-00500.csv.gz",
            "priority_xpart-00069-of-00500.csv.gz",
            "priority_ypart-00069-of-00500.csv.gz",
            "priority_xpart-00071-of-00500.csv.gz",
            "priority_ypart-00071-of-00500.csv.gz",
            "priority_xpart-00073-of-00500.csv.gz",
            "priority_ypart-00073-of-00500.csv.gz",
            "priority_xpart-00075-of-00500.csv.gz",
            "priority_ypart-00075-of-00500.csv.gz",
            "priority_xpart-00077-of-00500.csv.gz",
            "priority_ypart-00077-of-00500.csv.gz",
            "priority_xpart-00079-of-00500.csv.gz",
            "priority_ypart-00079-of-00500.csv.gz",
            "priority_xpart-00081-of-00500.csv.gz",
            "priority_ypart-00081-of-00500.csv.gz",
            "priority_xpart-00083-of-00500.csv.gz",
            "priority_ypart-00083-of-00500.csv.gz",
            "priority_xpart-00085-of-00500.csv.gz",
            "priority_ypart-00085-of-00500.csv.gz",
            "priority_xpart-00087-of-00500.csv.gz",
            "priority_ypart-00087-of-00500.csv.gz",
            "priority_xpart-00089-of-00500.csv.gz",
            "priority_ypart-00089-of-00500.csv.gz",
            "priority_xpart-00091-of-00500.csv.gz",
            "priority_ypart-00091-of-00500.csv.gz",
            "priority_xpart-00093-of-00500.csv.gz",
            "priority_ypart-00093-of-00500.csv.gz",
            "priority_xpart-00095-of-00500.csv.gz",
            "priority_ypart-00095-of-00500.csv.gz",
            "priority_xpart-00097-of-00500.csv.gz",
            "priority_ypart-00097-of-00500.csv.gz",
            "priority_xpart-00099-of-00500.csv.gz",
            "priority_ypart-00099-of-00500.csv.gz",
            "priority_xpart-00101-of-00500.csv.gz",
            "priority_ypart-00101-of-00500.csv.gz",
            "priority_xpart-00103-of-00500.csv.gz",
            "priority_ypart-00103-of-00500.csv.gz",
            "priority_xpart-00105-of-00500.csv.gz",
            "priority_ypart-00105-of-00500.csv.gz",
            "priority_xpart-00107-of-00500.csv.gz",
            "priority_ypart-00107-of-00500.csv.gz",
            "priority_xpart-00109-of-00500.csv.gz",
            "priority_ypart-00109-of-00500.csv.gz",
            "priority_xpart-00111-of-00500.csv.gz",
            "priority_ypart-00111-of-00500.csv.gz",
            "priority_xpart-00113-of-00500.csv.gz",
            "priority_ypart-00113-of-00500.csv.gz",
            "priority_xpart-00115-of-00500.csv.gz",
            "priority_ypart-00115-of-00500.csv.gz",
            "priority_xpart-00117-of-00500.csv.gz",
            "priority_ypart-00117-of-00500.csv.gz",
            "priority_xpart-00119-of-00500.csv.gz",
            "priority_ypart-00119-of-00500.csv.gz",
            "priority_xpart-00121-of-00500.csv.gz",
            "priority_ypart-00121-of-00500.csv.gz",
            "priority_xpart-00123-of-00500.csv.gz",
            "priority_ypart-00123-of-00500.csv.gz",
            "priority_xpart-00125-of-00500.csv.gz",
            "priority_ypart-00125-of-00500.csv.gz",
            "priority_xpart-00127-of-00500.csv.gz",
            "priority_ypart-00127-of-00500.csv.gz",
            "priority_xpart-00129-of-00500.csv.gz",
            "priority_ypart-00129-of-00500.csv.gz",
            "priority_xpart-00131-of-00500.csv.gz",
            "priority_ypart-00131-of-00500.csv.gz",
            "priority_xpart-00133-of-00500.csv.gz",
            "priority_ypart-00133-of-00500.csv.gz",
            "priority_xpart-00135-of-00500.csv.gz",
            "priority_ypart-00135-of-00500.csv.gz",
            "priority_xpart-00137-of-00500.csv.gz",
            "priority_ypart-00137-of-00500.csv.gz",
            "priority_xpart-00139-of-00500.csv.gz",
            "priority_ypart-00139-of-00500.csv.gz",
            "priority_xpart-00141-of-00500.csv.gz",
            "priority_ypart-00141-of-00500.csv.gz",
            "priority_xpart-00143-of-00500.csv.gz",
            "priority_ypart-00143-of-00500.csv.gz",
            "priority_xpart-00145-of-00500.csv.gz",
            "priority_ypart-00145-of-00500.csv.gz",
            "priority_xpart-00147-of-00500.csv.gz",
            "priority_ypart-00147-of-00500.csv.gz",
            "priority_xpart-00149-of-00500.csv.gz",
            "priority_ypart-00149-of-00500.csv.gz",
            "priority_xpart-00151-of-00500.csv.gz",
            "priority_ypart-00151-of-00500.csv.gz",
            "priority_xpart-00153-of-00500.csv.gz",
            "priority_ypart-00153-of-00500.csv.gz",
            "priority_xpart-00155-of-00500.csv.gz",
            "priority_ypart-00155-of-00500.csv.gz",
            "priority_xpart-00157-of-00500.csv.gz",
            "priority_ypart-00157-of-00500.csv.gz",
            "priority_xpart-00159-of-00500.csv.gz",
            "priority_ypart-00159-of-00500.csv.gz",
            "priority_xpart-00161-of-00500.csv.gz",
            "priority_ypart-00161-of-00500.csv.gz",
            "priority_xpart-00163-of-00500.csv.gz",
            "priority_ypart-00163-of-00500.csv.gz",
            "priority_xpart-00165-of-00500.csv.gz",
            "priority_ypart-00165-of-00500.csv.gz",
            "priority_xpart-00167-of-00500.csv.gz",
            "priority_ypart-00167-of-00500.csv.gz",
            "priority_xpart-00169-of-00500.csv.gz",
            "priority_ypart-00169-of-00500.csv.gz",
            "priority_xpart-00171-of-00500.csv.gz",
            "priority_ypart-00171-of-00500.csv.gz",
            "priority_xpart-00173-of-00500.csv.gz",
            "priority_ypart-00173-of-00500.csv.gz",
            "priority_xpart-00175-of-00500.csv.gz",
            "priority_ypart-00175-of-00500.csv.gz",
            "priority_xpart-00177-of-00500.csv.gz",
            "priority_ypart-00177-of-00500.csv.gz",
            "priority_xpart-00179-of-00500.csv.gz",
            "priority_ypart-00179-of-00500.csv.gz",
            "priority_xpart-00181-of-00500.csv.gz",
            "priority_ypart-00181-of-00500.csv.gz",
            "priority_xpart-00183-of-00500.csv.gz",
            "priority_ypart-00183-of-00500.csv.gz",
            "priority_xpart-00185-of-00500.csv.gz",
            "priority_ypart-00185-of-00500.csv.gz",
            "priority_xpart-00187-of-00500.csv.gz",
            "priority_ypart-00187-of-00500.csv.gz",
            "priority_xpart-00189-of-00500.csv.gz",
            "priority_ypart-00189-of-00500.csv.gz",
            "priority_xpart-00191-of-00500.csv.gz",
            "priority_ypart-00191-of-00500.csv.gz",
            "priority_xpart-00193-of-00500.csv.gz",
            "priority_ypart-00193-of-00500.csv.gz",
            "priority_xpart-00195-of-00500.csv.gz",
            "priority_ypart-00195-of-00500.csv.gz",
            "priority_xpart-00197-of-00500.csv.gz",
            "priority_ypart-00197-of-00500.csv.gz",
            "priority_xpart-00199-of-00500.csv.gz",
            "priority_ypart-00199-of-00500.csv.gz",
            "priority_xpart-00201-of-00500.csv.gz",
            "priority_ypart-00201-of-00500.csv.gz",
            "priority_xpart-00203-of-00500.csv.gz",
            "priority_ypart-00203-of-00500.csv.gz",
            "priority_xpart-00205-of-00500.csv.gz",
            "priority_ypart-00205-of-00500.csv.gz",
            "priority_xpart-00207-of-00500.csv.gz",
            "priority_ypart-00207-of-00500.csv.gz",
            "priority_xpart-00209-of-00500.csv.gz",
            "priority_ypart-00209-of-00500.csv.gz",
            "priority_xpart-00211-of-00500.csv.gz",
            "priority_ypart-00211-of-00500.csv.gz",
            "priority_xpart-00213-of-00500.csv.gz",
            "priority_ypart-00213-of-00500.csv.gz",
            "priority_xpart-00215-of-00500.csv.gz",
            "priority_ypart-00215-of-00500.csv.gz",
            "priority_xpart-00217-of-00500.csv.gz",
            "priority_ypart-00217-of-00500.csv.gz",
            "priority_xpart-00219-of-00500.csv.gz",
            "priority_ypart-00219-of-00500.csv.gz",
            "priority_xpart-00221-of-00500.csv.gz",
            "priority_ypart-00221-of-00500.csv.gz",
            "priority_xpart-00223-of-00500.csv.gz",
            "priority_ypart-00223-of-00500.csv.gz",
            "priority_xpart-00225-of-00500.csv.gz",
            "priority_ypart-00225-of-00500.csv.gz",
            "priority_xpart-00227-of-00500.csv.gz",
            "priority_ypart-00227-of-00500.csv.gz",
            "priority_xpart-00229-of-00500.csv.gz",
            "priority_ypart-00229-of-00500.csv.gz",
            "priority_xpart-00231-of-00500.csv.gz",
            "priority_ypart-00231-of-00500.csv.gz",
            "priority_xpart-00233-of-00500.csv.gz",
            "priority_ypart-00233-of-00500.csv.gz",
            "priority_xpart-00235-of-00500.csv.gz",
            "priority_ypart-00235-of-00500.csv.gz",
            "priority_xpart-00237-of-00500.csv.gz",
            "priority_ypart-00237-of-00500.csv.gz",
            "priority_xpart-00239-of-00500.csv.gz",
            "priority_ypart-00239-of-00500.csv.gz",
            "priority_xpart-00241-of-00500.csv.gz",
            "priority_ypart-00241-of-00500.csv.gz",
            "priority_xpart-00243-of-00500.csv.gz",
            "priority_ypart-00243-of-00500.csv.gz",
            "priority_xpart-00245-of-00500.csv.gz",
            "priority_ypart-00245-of-00500.csv.gz",
            "priority_xpart-00247-of-00500.csv.gz",
            "priority_ypart-00247-of-00500.csv.gz",
            "priority_xpart-00249-of-00500.csv.gz",
            "priority_ypart-00249-of-00500.csv.gz",
            "priority_xpart-00251-of-00500.csv.gz",
            "priority_ypart-00251-of-00500.csv.gz",
            "priority_xpart-00253-of-00500.csv.gz",
            "priority_ypart-00253-of-00500.csv.gz",
            "priority_xpart-00255-of-00500.csv.gz",
            "priority_ypart-00255-of-00500.csv.gz",
            "priority_xpart-00257-of-00500.csv.gz",
            "priority_ypart-00257-of-00500.csv.gz",
            "priority_xpart-00259-of-00500.csv.gz",
            "priority_ypart-00259-of-00500.csv.gz",
            "priority_xpart-00261-of-00500.csv.gz",
            "priority_ypart-00261-of-00500.csv.gz",
            "priority_xpart-00263-of-00500.csv.gz",
            "priority_ypart-00263-of-00500.csv.gz",
            "priority_xpart-00265-of-00500.csv.gz",
            "priority_ypart-00265-of-00500.csv.gz",
            "priority_xpart-00267-of-00500.csv.gz",
            "priority_ypart-00267-of-00500.csv.gz",
            "priority_xpart-00269-of-00500.csv.gz",
            "priority_ypart-00269-of-00500.csv.gz",
            "priority_xpart-00271-of-00500.csv.gz",
            "priority_ypart-00271-of-00500.csv.gz",
            "priority_xpart-00273-of-00500.csv.gz",
            "priority_ypart-00273-of-00500.csv.gz",
            "priority_xpart-00275-of-00500.csv.gz",
            "priority_ypart-00275-of-00500.csv.gz",
            "priority_xpart-00277-of-00500.csv.gz",
            "priority_ypart-00277-of-00500.csv.gz",
            "priority_xpart-00279-of-00500.csv.gz",
            "priority_ypart-00279-of-00500.csv.gz",
            "priority_xpart-00281-of-00500.csv.gz",
            "priority_ypart-00281-of-00500.csv.gz",
            "priority_xpart-00283-of-00500.csv.gz",
            "priority_ypart-00283-of-00500.csv.gz",
            "priority_xpart-00285-of-00500.csv.gz",
            "priority_ypart-00285-of-00500.csv.gz",
            "priority_xpart-00287-of-00500.csv.gz",
            "priority_ypart-00287-of-00500.csv.gz",
            "priority_xpart-00289-of-00500.csv.gz",
            "priority_ypart-00289-of-00500.csv.gz",
            "priority_xpart-00291-of-00500.csv.gz",
            "priority_ypart-00291-of-00500.csv.gz",
            "priority_xpart-00293-of-00500.csv.gz",
            "priority_ypart-00293-of-00500.csv.gz",
            "priority_xpart-00295-of-00500.csv.gz",
            "priority_ypart-00295-of-00500.csv.gz",
            "priority_xpart-00297-of-00500.csv.gz",
            "priority_ypart-00297-of-00500.csv.gz",
            "priority_xpart-00299-of-00500.csv.gz",
            "priority_ypart-00299-of-00500.csv.gz",
            "priority_xpart-00301-of-00500.csv.gz",
            "priority_ypart-00301-of-00500.csv.gz",
            "priority_xpart-00303-of-00500.csv.gz",
            "priority_ypart-00303-of-00500.csv.gz",
            "priority_xpart-00305-of-00500.csv.gz",
            "priority_ypart-00305-of-00500.csv.gz",
            "priority_xpart-00307-of-00500.csv.gz",
            "priority_ypart-00307-of-00500.csv.gz",
            "priority_xpart-00309-of-00500.csv.gz",
            "priority_ypart-00309-of-00500.csv.gz",
            "priority_xpart-00311-of-00500.csv.gz",
            "priority_ypart-00311-of-00500.csv.gz",
            "priority_xpart-00313-of-00500.csv.gz",
            "priority_ypart-00313-of-00500.csv.gz",
            "priority_xpart-00315-of-00500.csv.gz",
            "priority_ypart-00315-of-00500.csv.gz",
            "priority_xpart-00317-of-00500.csv.gz",
            "priority_ypart-00317-of-00500.csv.gz",
            "priority_xpart-00319-of-00500.csv.gz",
            "priority_ypart-00319-of-00500.csv.gz",
            "priority_xpart-00321-of-00500.csv.gz",
            "priority_ypart-00321-of-00500.csv.gz",
            "priority_xpart-00323-of-00500.csv.gz",
            "priority_ypart-00323-of-00500.csv.gz",
            "priority_xpart-00325-of-00500.csv.gz",
            "priority_ypart-00325-of-00500.csv.gz",
            "priority_xpart-00327-of-00500.csv.gz",
            "priority_ypart-00327-of-00500.csv.gz",
            "priority_xpart-00329-of-00500.csv.gz",
            "priority_ypart-00329-of-00500.csv.gz",
            "priority_xpart-00331-of-00500.csv.gz",
            "priority_ypart-00331-of-00500.csv.gz",
            "priority_xpart-00333-of-00500.csv.gz",
            "priority_ypart-00333-of-00500.csv.gz",
            "priority_xpart-00335-of-00500.csv.gz",
            "priority_ypart-00335-of-00500.csv.gz",
            "priority_xpart-00337-of-00500.csv.gz",
            "priority_ypart-00337-of-00500.csv.gz",
            "priority_xpart-00339-of-00500.csv.gz",
            "priority_ypart-00339-of-00500.csv.gz",
            "priority_xpart-00341-of-00500.csv.gz",
            "priority_ypart-00341-of-00500.csv.gz",
            "priority_xpart-00343-of-00500.csv.gz",
            "priority_ypart-00343-of-00500.csv.gz",
            "priority_xpart-00345-of-00500.csv.gz",
            "priority_ypart-00345-of-00500.csv.gz",
            "priority_xpart-00347-of-00500.csv.gz",
            "priority_ypart-00347-of-00500.csv.gz",
            "priority_xpart-00349-of-00500.csv.gz",
            "priority_ypart-00349-of-00500.csv.gz",
            "priority_xpart-00351-of-00500.csv.gz",
            "priority_ypart-00351-of-00500.csv.gz",
            "priority_xpart-00353-of-00500.csv.gz",
            "priority_ypart-00353-of-00500.csv.gz",
            "priority_xpart-00355-of-00500.csv.gz",
            "priority_ypart-00355-of-00500.csv.gz",
            "priority_xpart-00357-of-00500.csv.gz",
            "priority_ypart-00357-of-00500.csv.gz",
            "priority_xpart-00359-of-00500.csv.gz",
            "priority_ypart-00359-of-00500.csv.gz",
            "priority_xpart-00361-of-00500.csv.gz",
            "priority_ypart-00361-of-00500.csv.gz",
            "priority_xpart-00363-of-00500.csv.gz",
            "priority_ypart-00363-of-00500.csv.gz",
            "priority_xpart-00365-of-00500.csv.gz",
            "priority_ypart-00365-of-00500.csv.gz",
            "priority_xpart-00367-of-00500.csv.gz",
            "priority_ypart-00367-of-00500.csv.gz",
            "priority_xpart-00369-of-00500.csv.gz",
            "priority_ypart-00369-of-00500.csv.gz",
            "priority_xpart-00371-of-00500.csv.gz",
            "priority_ypart-00371-of-00500.csv.gz",
            "priority_xpart-00373-of-00500.csv.gz",
            "priority_ypart-00373-of-00500.csv.gz",
            "priority_xpart-00375-of-00500.csv.gz",
            "priority_ypart-00375-of-00500.csv.gz",
            "priority_xpart-00377-of-00500.csv.gz",
            "priority_ypart-00377-of-00500.csv.gz",
            "priority_xpart-00379-of-00500.csv.gz",
            "priority_ypart-00379-of-00500.csv.gz",
            "priority_xpart-00381-of-00500.csv.gz",
            "priority_ypart-00381-of-00500.csv.gz",
            "priority_xpart-00383-of-00500.csv.gz",
            "priority_ypart-00383-of-00500.csv.gz",
            "priority_xpart-00385-of-00500.csv.gz",
            "priority_ypart-00385-of-00500.csv.gz",
            "priority_xpart-00387-of-00500.csv.gz",
            "priority_ypart-00387-of-00500.csv.gz",
            "priority_xpart-00389-of-00500.csv.gz",
            "priority_ypart-00389-of-00500.csv.gz",
            "priority_xpart-00391-of-00500.csv.gz",
            "priority_ypart-00391-of-00500.csv.gz",
            "priority_xpart-00393-of-00500.csv.gz",
            "priority_ypart-00393-of-00500.csv.gz",
            "priority_xpart-00395-of-00500.csv.gz",
            "priority_ypart-00395-of-00500.csv.gz",
            "priority_xpart-00397-of-00500.csv.gz",
            "priority_ypart-00397-of-00500.csv.gz",
            "priority_xpart-00399-of-00500.csv.gz",
            "priority_ypart-00399-of-00500.csv.gz",
            "priority_xpart-00401-of-00500.csv.gz",
            "priority_ypart-00401-of-00500.csv.gz",
            "priority_xpart-00403-of-00500.csv.gz",
            "priority_ypart-00403-of-00500.csv.gz",
            "priority_xpart-00405-of-00500.csv.gz",
            "priority_ypart-00405-of-00500.csv.gz",
            "priority_xpart-00407-of-00500.csv.gz",
            "priority_ypart-00407-of-00500.csv.gz",
            "priority_xpart-00409-of-00500.csv.gz",
            "priority_ypart-00409-of-00500.csv.gz",
            "priority_xpart-00411-of-00500.csv.gz",
            "priority_ypart-00411-of-00500.csv.gz",
            "priority_xpart-00413-of-00500.csv.gz",
            "priority_ypart-00413-of-00500.csv.gz",
            "priority_xpart-00415-of-00500.csv.gz",
            "priority_ypart-00415-of-00500.csv.gz",
            "priority_xpart-00417-of-00500.csv.gz",
            "priority_ypart-00417-of-00500.csv.gz",
            "priority_xpart-00419-of-00500.csv.gz",
            "priority_ypart-00419-of-00500.csv.gz",
            "priority_xpart-00421-of-00500.csv.gz",
            "priority_ypart-00421-of-00500.csv.gz",
            "priority_xpart-00423-of-00500.csv.gz",
            "priority_ypart-00423-of-00500.csv.gz",
            "priority_xpart-00425-of-00500.csv.gz",
            "priority_ypart-00425-of-00500.csv.gz",
            "priority_xpart-00427-of-00500.csv.gz",
            "priority_ypart-00427-of-00500.csv.gz",
            "priority_xpart-00429-of-00500.csv.gz",
            "priority_ypart-00429-of-00500.csv.gz",
            "priority_xpart-00431-of-00500.csv.gz",
            "priority_ypart-00431-of-00500.csv.gz",
            "priority_xpart-00433-of-00500.csv.gz",
            "priority_ypart-00433-of-00500.csv.gz",
            "priority_xpart-00435-of-00500.csv.gz",
            "priority_ypart-00435-of-00500.csv.gz",
            "priority_xpart-00437-of-00500.csv.gz",
            "priority_ypart-00437-of-00500.csv.gz",
            "priority_xpart-00439-of-00500.csv.gz",
            "priority_ypart-00439-of-00500.csv.gz",
            "priority_xpart-00441-of-00500.csv.gz",
            "priority_ypart-00441-of-00500.csv.gz",
            "priority_xpart-00443-of-00500.csv.gz",
            "priority_ypart-00443-of-00500.csv.gz",
            "priority_xpart-00445-of-00500.csv.gz",
            "priority_ypart-00445-of-00500.csv.gz",
            "priority_xpart-00447-of-00500.csv.gz",
            "priority_ypart-00447-of-00500.csv.gz",
            "priority_xpart-00449-of-00500.csv.gz",
            "priority_ypart-00449-of-00500.csv.gz",
            "priority_xpart-00451-of-00500.csv.gz",
            "priority_ypart-00451-of-00500.csv.gz",
            "priority_xpart-00453-of-00500.csv.gz",
            "priority_ypart-00453-of-00500.csv.gz",
            "priority_xpart-00455-of-00500.csv.gz",
            "priority_ypart-00455-of-00500.csv.gz",
            "priority_xpart-00457-of-00500.csv.gz",
            "priority_ypart-00457-of-00500.csv.gz",
            "priority_xpart-00459-of-00500.csv.gz",
            "priority_ypart-00459-of-00500.csv.gz",
            "priority_xpart-00461-of-00500.csv.gz",
            "priority_ypart-00461-of-00500.csv.gz",
            "priority_xpart-00463-of-00500.csv.gz",
            "priority_ypart-00463-of-00500.csv.gz",
            "priority_xpart-00465-of-00500.csv.gz",
            "priority_ypart-00465-of-00500.csv.gz",
            "priority_xpart-00467-of-00500.csv.gz",
            "priority_ypart-00467-of-00500.csv.gz",
            "priority_xpart-00469-of-00500.csv.gz",
            "priority_ypart-00469-of-00500.csv.gz",
            "priority_xpart-00471-of-00500.csv.gz",
            "priority_ypart-00471-of-00500.csv.gz",
            "priority_xpart-00473-of-00500.csv.gz",
            "priority_ypart-00473-of-00500.csv.gz",
            "priority_xpart-00475-of-00500.csv.gz",
            "priority_ypart-00475-of-00500.csv.gz",
            "priority_xpart-00477-of-00500.csv.gz",
            "priority_ypart-00477-of-00500.csv.gz",
            "priority_xpart-00479-of-00500.csv.gz",
            "priority_ypart-00479-of-00500.csv.gz",
            "priority_xpart-00481-of-00500.csv.gz",
            "priority_ypart-00481-of-00500.csv.gz",
            "priority_xpart-00483-of-00500.csv.gz",
            "priority_ypart-00483-of-00500.csv.gz",
            "priority_xpart-00485-of-00500.csv.gz",
            "priority_ypart-00485-of-00500.csv.gz",
            "priority_xpart-00487-of-00500.csv.gz",
            "priority_ypart-00487-of-00500.csv.gz",
            "priority_xpart-00489-of-00500.csv.gz",
            "priority_ypart-00489-of-00500.csv.gz",
            "priority_xpart-00491-of-00500.csv.gz",
            "priority_ypart-00491-of-00500.csv.gz",
            "priority_xpart-00493-of-00500.csv.gz"
          ],
          "conditionalFilters": [],
          "filters": [],
          "hiddenColumnIds": [],
          "pageIndex": 0,
          "pageSize": 10,
          "sortBy": [],
          "wrappedTextColumnIds": []
        },
        "execution_context_id": "446c9192-84e9-4b6d-ab6b-2aef8d2b6cf4",
        "execution_millis": 366469,
        "execution_start": 1740344532409,
        "id": "xsfqYnd0srRu",
        "source_hash": "5cd21572"
      },
      "outputs": [],
      "source": [
        "folder_path = '/work/task_events'\n",
        "\n",
        "df_tasks_dom_prio = df_tasks_dom\n",
        "\n",
        "for filename in os.listdir(folder_path):\n",
        "\n",
        "    file_path = os.path.join(folder_path, filename)\n",
        "    df = pd.read_csv(file_path)\n",
        "    df.columns = [\"time\", \"missing info\", \"job ID\", \"task index\", \"machine ID\", \"event type\", \"user\", \"scheduling class\", \"priority\",\n",
        "           \"CPU request\", \"memory request\", \"disk space request\", \"different machines restriction\"]\n",
        "    df_iter = df[['job ID', 'task index', 'priority']].drop_duplicates()\n",
        "    df_tasks_dom_prio = pd.merge(df_tasks_dom_prio, df_iter, on=['job ID', 'task index'], how='left', suffixes=(f'_x{filename}', f'_y{filename}'))\n",
        "\n",
        "df_tasks_dom_prio[\"priority\"] = df_tasks_dom_prio.iloc[:,7:].mean(axis=1, skipna=True)\n",
        "df_tasks_dom_prio.drop(df_tasks_dom_prio.columns[7:-1],axis=1,inplace=True)"
      ]
    },
    {
      "cell_type": "code",
      "execution_count": null,
      "metadata": {
        "cell_id": "f083eb24bb0b48749183e2f724fd5429",
        "deepnote_cell_type": "code",
        "execution_context_id": "446c9192-84e9-4b6d-ab6b-2aef8d2b6cf4",
        "execution_millis": 330,
        "execution_start": 1740344900299,
        "id": "OvuUbopJsrRu",
        "outputId": "567d99f6-5036-42b6-de40-b3667a23d155",
        "source_hash": "774b4df1"
      },
      "outputs": [
        {
          "data": {
            "image/png": "[encoded data removed]",
            "text/plain": [
              "<Figure size 800x600 with 1 Axes>"
            ]
          },
          "metadata": {
            "image/png": {
              "height": 504,
              "width": 640
            }
          },
          "output_type": "display_data"
        }
      ],
      "source": [
        "priority_counts = df_tasks_dom_prio['priority'].value_counts()\n",
        "\n",
        "# Create the pie chart\n",
        "plt.figure(figsize=(8, 6))\n",
        "plt.pie(priority_counts, labels=priority_counts.index, autopct='%1.1f%%', startangle=90)\n",
        "plt.title(\"Distribution of Priorities\")\n",
        "plt.axis('equal')  # Equal aspect ratio ensures that pie is drawn as a circle.\n",
        "plt.show()"
      ]
    },
    {
      "cell_type": "markdown",
      "metadata": {
        "cell_id": "8e2ebe74931c4615ba53480dc0dcb161",
        "deepnote_cell_type": "markdown",
        "id": "qM-O5xE91VsI"
      },
      "source": [
        "## Memory usage and CPU usage correlation for dominants tasks"
      ]
    },
    {
      "cell_type": "code",
      "execution_count": null,
      "metadata": {
        "cell_id": "30cbd5228df749b19a73c54257afac9e",
        "deepnote_cell_type": "code",
        "execution_context_id": "446c9192-84e9-4b6d-ab6b-2aef8d2b6cf4",
        "execution_millis": 1876,
        "execution_start": 1740344900761,
        "id": "xeBvc59UsrRv",
        "outputId": "2407a940-427f-492c-845e-6c4be1b5827a",
        "source_hash": "a5067e46"
      },
      "outputs": [
        {
          "data": {
            "text/plain": [
              "<seaborn.axisgrid.PairGrid at 0x7ff73cc4ad60>"
            ]
          },
          "execution_count": 16,
          "metadata": {},
          "output_type": "execute_result"
        },
        {
          "data": {
            "image/png": "[encoded data removed]",
            "text/plain": [
              "<Figure size 1000x1000 with 20 Axes>"
            ]
          },
          "metadata": {
            "image/png": {
              "height": 986,
              "width": 985
            }
          },
          "output_type": "display_data"
        }
      ],
      "source": [
        "sns.pairplot(df_tasks_dom[['Average CPU rate','Max CPU rate','Average memory usage','Max memory usage']])"
      ]
    },
    {
      "cell_type": "code",
      "execution_count": null,
      "metadata": {
        "cell_id": "584666f8bb4f4ec19f8683455cff1168",
        "deepnote_cell_type": "code",
        "execution_context_id": "446c9192-84e9-4b6d-ab6b-2aef8d2b6cf4",
        "execution_millis": 298,
        "execution_start": 1740344904202,
        "id": "RmrJ1lf5srRv",
        "outputId": "24711745-627d-469b-d359-7f58d12c98d5",
        "source_hash": "c2bf3bb0"
      },
      "outputs": [
        {
          "name": "stdout",
          "output_type": "stream",
          "text": [
            "                             OLS Regression Results                             \n",
            "================================================================================\n",
            "Dep. Variable:     Average memory usage   R-squared:                       0.158\n",
            "Model:                              OLS   Adj. R-squared:                  0.111\n",
            "Method:                   Least Squares   F-statistic:                     3.367\n",
            "Date:                  Sun, 23 Feb 2025   Prob (F-statistic):             0.0831\n",
            "Time:                          21:08:24   Log-Likelihood:                0.98275\n",
            "No. Observations:                    20   AIC:                             2.035\n",
            "Df Residuals:                        18   BIC:                             4.026\n",
            "Df Model:                             1                                         \n",
            "Covariance Type:              nonrobust                                         \n",
            "====================================================================================\n",
            "                       coef    std err          t      P>|t|      [0.025      0.975]\n",
            "------------------------------------------------------------------------------------\n",
            "const                0.3862      0.091      4.260      0.000       0.196       0.577\n",
            "Average CPU rate    -0.9455      0.515     -1.835      0.083      -2.028       0.137\n",
            "==============================================================================\n",
            "Omnibus:                        4.000   Durbin-Watson:                   1.035\n",
            "Prob(Omnibus):                  0.135   Jarque-Bera (JB):                2.455\n",
            "Skew:                           0.655   Prob(JB):                        0.293\n",
            "Kurtosis:                       1.891   Cond. No.                         9.68\n",
            "==============================================================================\n",
            "\n",
            "Notes:\n",
            "[1] Standard Errors assume that the covariance matrix of the errors is correctly specified.\n"
          ]
        },
        {
          "data": {
            "image/png": "[encoded data removed]",
            "text/plain": [
              "<Figure size 640x480 with 1 Axes>"
            ]
          },
          "metadata": {
            "image/png": {
              "height": 455,
              "width": 588
            }
          },
          "output_type": "display_data"
        }
      ],
      "source": [
        "x = sm.add_constant(df_tasks_dom['Average CPU rate'])\n",
        "model = sm.OLS(df_tasks_dom['Average memory usage'], x).fit()\n",
        "y_pred = model.predict(x)\n",
        "\n",
        "print(model.summary())\n",
        "\n",
        "fig, ax = plt.subplots()\n",
        "ax.scatter(df_tasks_dom['Average CPU rate'], df_tasks_dom['Average memory usage'])\n",
        "plt.plot(df_tasks_dom['Average CPU rate'], y_pred, color='red')\n",
        "plt.xlabel('Average CPU rate')\n",
        "plt.ylabel('Average memory usage')\n",
        "plt.title(\"Regression between CPU and memory usage of dominants tasks\")\n",
        "plt.show()"
      ]
    }
  ],
  "metadata": {
    "colab": {
      "provenance": []
    },
    "deepnote_notebook_id": "6669a9846a694616abf1a760c3a28a70",
    "kernelspec": {
      "display_name": "Python 3",
      "name": "python3"
    },
    "language_info": {
      "name": "python"
    }
  },
  "nbformat": 4,
  "nbformat_minor": 0
}
